{
 "cells": [
  {
   "cell_type": "markdown",
   "metadata": {},
   "source": [
    "# Pre-Processamento Dados"
   ]
  },
  {
   "cell_type": "markdown",
   "metadata": {},
   "source": [
    "## Leitura dos arquivos"
   ]
  },
  {
   "cell_type": "code",
   "execution_count": 37,
   "metadata": {
    "collapsed": true
   },
   "outputs": [],
   "source": [
    "import pandas as pd\n",
    "import re"
   ]
  },
  {
   "cell_type": "code",
   "execution_count": 38,
   "metadata": {},
   "outputs": [
    {
     "data": {
      "text/plain": [
       "False"
      ]
     },
     "execution_count": 38,
     "metadata": {},
     "output_type": "execute_result"
    }
   ],
   "source": [
    "dataDepression = pd.read_csv(\"data/depression_2017.txt\", sep=\";\")\n",
    "dataDepression.isnull().values.any()"
   ]
  },
  {
   "cell_type": "code",
   "execution_count": 39,
   "metadata": {},
   "outputs": [
    {
     "data": {
      "text/plain": [
       "False"
      ]
     },
     "execution_count": 39,
     "metadata": {},
     "output_type": "execute_result"
    }
   ],
   "source": [
    "dataAnxiety  = pd.read_csv(\"data/anxiety_2017.txt\", sep=\";\")\n",
    "dataAnxiety.isnull().values.any()"
   ]
  },
  {
   "cell_type": "code",
   "execution_count": 40,
   "metadata": {},
   "outputs": [
    {
     "data": {
      "text/plain": [
       "False"
      ]
     },
     "execution_count": 40,
     "metadata": {},
     "output_type": "execute_result"
    }
   ],
   "source": [
    "dataSuicide = pd.read_csv(\"data/suicide_2017.txt\", sep=\";\")\n",
    "dataSuicide.isnull().values.any()"
   ]
  },
  {
   "cell_type": "code",
   "execution_count": 41,
   "metadata": {},
   "outputs": [
    {
     "data": {
      "text/plain": [
       "False"
      ]
     },
     "execution_count": 41,
     "metadata": {},
     "output_type": "execute_result"
    }
   ],
   "source": [
    "dataBipolar = pd.read_csv(\"data/bipolar_2017.txt\", sep=\";\")\n",
    "dataBipolar.isnull().values.any()"
   ]
  },
  {
   "cell_type": "code",
   "execution_count": 42,
   "metadata": {},
   "outputs": [
    {
     "data": {
      "text/plain": [
       "False"
      ]
     },
     "execution_count": 42,
     "metadata": {},
     "output_type": "execute_result"
    }
   ],
   "source": [
    "dataBipolar.isnull().values.any()"
   ]
  },
  {
   "cell_type": "markdown",
   "metadata": {},
   "source": [
    "## Pegar usuários que tem ao menos 50 atividades (posts + comments)"
   ]
  },
  {
   "cell_type": "markdown",
   "metadata": {},
   "source": [
    "### Anxiety"
   ]
  },
  {
   "cell_type": "code",
   "execution_count": 43,
   "metadata": {},
   "outputs": [
    {
     "name": "stdout",
     "output_type": "stream",
     "text": [
      "Qtde Autores >= 50 atividades =  407\n",
      "Qtde Posts =  0\n",
      "Qtde Comments=  0\n"
     ]
    }
   ],
   "source": [
    "usersAnxiey = []\n",
    "dictAnxiety =  dict(dataAnxiety.groupby(\"user\")[\"spans\"].count())\n",
    "contAuthorsAnxiety = 0\n",
    "contPosts = 0\n",
    "contComments = 0\n",
    "for item in sorted(dictAnxiety, key = dictAnxiety.get,  reverse=True):\n",
    "    if(dictAnxiety[item] >= 50):\n",
    "      #  contPosts = contPosts + len(dataAnxiety[(dataAnxiety.user.str.strip() == item) & (dataAnxiety.masks.str.strip() == \"posts\")])\n",
    "      #  contComments = contComments + len(dataAnxiety[(dataAnxiety.user.str.strip() == item) & (dataAnxiety.masks.str.strip() == \"comments\")])\n",
    "        usersAnxiey.append(item)\n",
    "        contAuthorsAnxiety = contAuthorsAnxiety + 1\n",
    "print(\"Qtde Autores >= 50 atividades = \", contAuthorsAnxiety)\n",
    "print(\"Qtde Posts = \", contPosts)\n",
    "print(\"Qtde Comments= \", contComments)"
   ]
  },
  {
   "cell_type": "code",
   "execution_count": 44,
   "metadata": {
    "collapsed": true
   },
   "outputs": [],
   "source": [
    "# pegar apenas os usuarios que tem mais de 50 atividades\n",
    "dataAnxiety = dataAnxiety[dataAnxiety.user.isin(usersAnxiey)]"
   ]
  },
  {
   "cell_type": "markdown",
   "metadata": {},
   "source": [
    "### Bipolar"
   ]
  },
  {
   "cell_type": "code",
   "execution_count": 45,
   "metadata": {},
   "outputs": [
    {
     "name": "stdout",
     "output_type": "stream",
     "text": [
      "Qtde Autores >= 50 atividades =  691\n",
      "Qtde Posts =  0\n",
      "Qtde Comments=  0\n"
     ]
    }
   ],
   "source": [
    "usersBipolar = []\n",
    "dictBipolar =  dict(dataBipolar.groupby(\"user\")[\"spans\"].count())\n",
    "contAuthorsBipolar = 0\n",
    "contPosts = 0\n",
    "contComments = 0\n",
    "for item in sorted(dictBipolar, key = dictBipolar.get,  reverse=True):\n",
    "    if(dictBipolar[item] >= 50):\n",
    "       # contPosts = contPosts + len(dataBipolar[(dataBipolar.user.str.strip() == item) & (dataBipolar.masks.str.strip() == \"posts\")])\n",
    "       # contComments = contComments + len(dataBipolar[(dataBipolar.user.str.strip() == item) & (dataBipolar.masks.str.strip() == \"comments\")])\n",
    "        usersBipolar.append(item)\n",
    "        contAuthorsBipolar = contAuthorsBipolar + 1\n",
    "print(\"Qtde Autores >= 50 atividades = \", contAuthorsBipolar)\n",
    "print(\"Qtde Posts = \", contPosts)\n",
    "print(\"Qtde Comments= \", contComments)"
   ]
  },
  {
   "cell_type": "code",
   "execution_count": 46,
   "metadata": {
    "collapsed": true
   },
   "outputs": [],
   "source": [
    "# pegar apenas os usuarios que tem mais de 50 atividades\n",
    "dataBipolar = dataBipolar[dataBipolar.user.isin(usersBipolar)]"
   ]
  },
  {
   "cell_type": "markdown",
   "metadata": {},
   "source": [
    "### Depression"
   ]
  },
  {
   "cell_type": "code",
   "execution_count": 47,
   "metadata": {},
   "outputs": [
    {
     "name": "stdout",
     "output_type": "stream",
     "text": [
      "Qtde Autores >= 50 atividades =  1633\n",
      "Qtde Posts =  0\n",
      "Qtde Comments=  0\n"
     ]
    }
   ],
   "source": [
    "userDpression = []\n",
    "dictDepression =  dict(dataDepression.groupby(\"user\")[\"spans\"].count())\n",
    "contAuthorsDepression = 0\n",
    "contPosts = 0\n",
    "contComments = 0\n",
    "for item in sorted(dictDepression, key = dictDepression.get,  reverse=True):\n",
    "    if(dictDepression[item] >= 50):\n",
    "      #  contPosts = contPosts + len(dataDepression[(dataDepression.user.str.strip() == item) & (dataDepression.masks.str.strip() == \"posts\")])\n",
    "      #  contComments = contComments + len(dataDepression[(dataDepression.user.str.strip() == item) & (dataDepression.masks.str.strip() == \"comments\")])\n",
    "        userDpression.append(item)\n",
    "        contAuthorsDepression = contAuthorsDepression + 1\n",
    "print(\"Qtde Autores >= 50 atividades = \", contAuthorsDepression)\n",
    "print(\"Qtde Posts = \", contPosts)\n",
    "print(\"Qtde Comments= \", contComments)"
   ]
  },
  {
   "cell_type": "code",
   "execution_count": 48,
   "metadata": {
    "collapsed": true
   },
   "outputs": [],
   "source": [
    "dataDepression = dataDepression[dataDepression.user.isin(userDpression)]"
   ]
  },
  {
   "cell_type": "markdown",
   "metadata": {},
   "source": [
    "### Suicide"
   ]
  },
  {
   "cell_type": "code",
   "execution_count": 49,
   "metadata": {},
   "outputs": [
    {
     "name": "stdout",
     "output_type": "stream",
     "text": [
      "Qtde Autores >= 50 atividades =  505\n",
      "Qtde Posts =  0\n",
      "Qtde Comments=  0\n"
     ]
    }
   ],
   "source": [
    "userSuicide = []\n",
    "dictSuicide =  dict(dataSuicide.groupby(\"user\")[\"spans\"].count())\n",
    "contAuthorsSuicide = 0\n",
    "contPosts = 0\n",
    "contComments = 0\n",
    "for item in sorted(dictSuicide, key = dictSuicide.get,  reverse=True):\n",
    "    if(dictSuicide[item] >= 50):\n",
    "       # contPosts = contPosts + len(dataDepression[(dataDepression.user.str.strip() == item) & (dataDepression.masks.str.strip() == \"posts\")])\n",
    "       # contComments = contComments + len(dataDepression[(dataDepression.user.str.strip() == item) & (dataDepression.masks.str.strip() == \"comments\")])\n",
    "        userSuicide.append(item)\n",
    "        contAuthorsSuicide = contAuthorsSuicide + 1\n",
    "print(\"Qtde Autores >= 50 atividades = \", contAuthorsSuicide)\n",
    "print(\"Qtde Posts = \", contPosts)\n",
    "print(\"Qtde Comments= \", contComments)"
   ]
  },
  {
   "cell_type": "code",
   "execution_count": 50,
   "metadata": {
    "collapsed": true
   },
   "outputs": [],
   "source": [
    "dataSuicide = dataSuicide[dataSuicide.user.isin(userSuicide)]"
   ]
  },
  {
   "cell_type": "code",
   "execution_count": 51,
   "metadata": {},
   "outputs": [
    {
     "data": {
      "text/plain": [
       "44206"
      ]
     },
     "execution_count": 51,
     "metadata": {},
     "output_type": "execute_result"
    }
   ],
   "source": [
    "len(dataAnxiety)"
   ]
  },
  {
   "cell_type": "code",
   "execution_count": 52,
   "metadata": {},
   "outputs": [
    {
     "data": {
      "text/plain": [
       "113260"
      ]
     },
     "execution_count": 52,
     "metadata": {},
     "output_type": "execute_result"
    }
   ],
   "source": [
    "len(dataBipolar)"
   ]
  },
  {
   "cell_type": "code",
   "execution_count": 53,
   "metadata": {},
   "outputs": [
    {
     "data": {
      "text/plain": [
       "201704"
      ]
     },
     "execution_count": 53,
     "metadata": {},
     "output_type": "execute_result"
    }
   ],
   "source": [
    "len(dataDepression)"
   ]
  },
  {
   "cell_type": "code",
   "execution_count": 54,
   "metadata": {},
   "outputs": [
    {
     "data": {
      "text/plain": [
       "67359"
      ]
     },
     "execution_count": 54,
     "metadata": {},
     "output_type": "execute_result"
    }
   ],
   "source": [
    "len(dataSuicide)"
   ]
  },
  {
   "cell_type": "markdown",
   "metadata": {},
   "source": [
    "## Remover as palavras que não aparecem em ao menos 20% dos subreddits\n",
    "## Remover as palavras de menor frequencia"
   ]
  },
  {
   "cell_type": "markdown",
   "metadata": {},
   "source": [
    "## Palavras nos 4 subdreddits"
   ]
  },
  {
   "cell_type": "code",
   "execution_count": 55,
   "metadata": {
    "collapsed": true
   },
   "outputs": [],
   "source": [
    "# juntar todos dados\n",
    "dataAll = pd.concat([dataAnxiety, dataBipolar, dataDepression, dataSuicide])"
   ]
  },
  {
   "cell_type": "code",
   "execution_count": 56,
   "metadata": {},
   "outputs": [
    {
     "data": {
      "text/plain": [
       "426529"
      ]
     },
     "execution_count": 56,
     "metadata": {},
     "output_type": "execute_result"
    }
   ],
   "source": [
    "len(dataAll)"
   ]
  },
  {
   "cell_type": "code",
   "execution_count": 57,
   "metadata": {
    "collapsed": true
   },
   "outputs": [],
   "source": [
    "# contar as palavras\n",
    "from collections import Counter"
   ]
  },
  {
   "cell_type": "code",
   "execution_count": 58,
   "metadata": {
    "collapsed": true
   },
   "outputs": [],
   "source": [
    "words = dict(Counter(\" \".join(dataAll['spans'].values.tolist()).split(\" \")).items())"
   ]
  },
  {
   "cell_type": "code",
   "execution_count": 59,
   "metadata": {},
   "outputs": [
    {
     "data": {
      "text/plain": [
       "108879"
      ]
     },
     "execution_count": 59,
     "metadata": {},
     "output_type": "execute_result"
    }
   ],
   "source": [
    "len(words)"
   ]
  },
  {
   "cell_type": "code",
   "execution_count": 60,
   "metadata": {
    "collapsed": true
   },
   "outputs": [],
   "source": [
    "#PALAVARAS POR SUBREDDIT\n",
    "wordsAnxiety = dict(Counter(\" \".join(dataAnxiety['spans'].values.tolist()).split(\" \")).items())\n",
    "wordsBipolar = dict(Counter(\" \".join(dataBipolar['spans'].values.tolist()).split(\" \")).items())\n",
    "wordsDepression = dict(Counter(\" \".join(dataDepression['spans'].values.tolist()).split(\" \")).items())\n",
    "wordsSuicide = dict(Counter(\" \".join(dataSuicide['spans'].values.tolist()).split(\" \")).items())"
   ]
  },
  {
   "cell_type": "markdown",
   "metadata": {},
   "source": [
    "### A) Remover palavras que não aparecem nos 4 subreddits"
   ]
  },
  {
   "cell_type": "code",
   "execution_count": null,
   "metadata": {
    "collapsed": true
   },
   "outputs": [],
   "source": [
    "# pegar palavras\n",
    "keys_anxiety = set(wordsAnxiety.keys())\n",
    "keys_bipolar = set(wordsBipolar.keys())\n",
    "keys_depression = set(wordsDepression.keys())\n",
    "keys_suicide = set(wordsSuicide.keys())"
   ]
  },
  {
   "cell_type": "code",
   "execution_count": null,
   "metadata": {
    "collapsed": true
   },
   "outputs": [],
   "source": [
    "# interecesão entre as palavras\n",
    "intersectionWords4Subreddits = keys_anxiety & keys_bipolar & keys_depression & keys_suicide"
   ]
  },
  {
   "cell_type": "code",
   "execution_count": null,
   "metadata": {},
   "outputs": [],
   "source": [
    "len(intersectionWords4Subreddits)"
   ]
  },
  {
   "cell_type": "code",
   "execution_count": null,
   "metadata": {
    "collapsed": true
   },
   "outputs": [],
   "source": [
    "# todas as palavras\n",
    "unionWords = keys_anxiety | keys_bipolar | keys_depression | keys_suicide"
   ]
  },
  {
   "cell_type": "code",
   "execution_count": null,
   "metadata": {},
   "outputs": [],
   "source": [
    "len(unionWords)"
   ]
  },
  {
   "cell_type": "code",
   "execution_count": null,
   "metadata": {
    "collapsed": true
   },
   "outputs": [],
   "source": [
    "# palavras que nao estao nos 4 subreddits\n",
    "#wordsNot4Subreddits = unionWords - intersectionWords4Subreddits"
   ]
  },
  {
   "cell_type": "code",
   "execution_count": null,
   "metadata": {},
   "outputs": [],
   "source": [
    "#len(wordsNot4Subreddits)"
   ]
  },
  {
   "cell_type": "markdown",
   "metadata": {},
   "source": [
    "#### remover palavras que NAO estao nos 4 subreddits"
   ]
  },
  {
   "cell_type": "code",
   "execution_count": null,
   "metadata": {
    "collapsed": true
   },
   "outputs": [],
   "source": [
    "#remove words que não estao nos 4 subreddits\n",
    "#dataAll['spans'] = dataAll['spans'].apply(lambda x: ' '.join([word for word in x.split() if word.lower() not in (wordsNot4Subreddits)]))"
   ]
  },
  {
   "cell_type": "code",
   "execution_count": null,
   "metadata": {},
   "outputs": [],
   "source": [
    "#len(dataAll)"
   ]
  },
  {
   "cell_type": "code",
   "execution_count": null,
   "metadata": {
    "collapsed": true
   },
   "outputs": [],
   "source": [
    "#wordsDepois = dict(Counter(\" \".join(dataAll['spans'].values.tolist()).split(\" \")).items())"
   ]
  },
  {
   "cell_type": "code",
   "execution_count": null,
   "metadata": {
    "collapsed": true
   },
   "outputs": [],
   "source": [
    "#len(wordsDepois)"
   ]
  },
  {
   "cell_type": "markdown",
   "metadata": {},
   "source": [
    "### B) Remover palavras que não estao em ao menos  3 subdreddits"
   ]
  },
  {
   "cell_type": "code",
   "execution_count": null,
   "metadata": {
    "collapsed": true
   },
   "outputs": [],
   "source": [
    "# palavras em pelo menos 3 subreddits.\n",
    "# intercalçao dos 4 subreddits | (anxiety&bipolar&suicide) | (bipolar&suicide&depression) | (anxiety&suicide&depression) | \n",
    "# (anxiety&bipolar&depression)\n",
    "set1 = keys_anxiety & keys_bipolar & keys_suicide\n",
    "set2 = keys_bipolar & keys_suicide & keys_depression \n",
    "set3 = keys_anxiety & keys_suicide & keys_depression \n",
    "set4 = keys_anxiety & keys_bipolar & keys_depression \n",
    "\n",
    "wordsAtLeast3Subreddits = intersectionWords4Subreddits | set1 | set2 | set3 |set4 #| set1 | set2 | set3 | set4"
   ]
  },
  {
   "cell_type": "code",
   "execution_count": null,
   "metadata": {},
   "outputs": [],
   "source": [
    "len(set1) + len(set2) + len(set3) + len(set4)"
   ]
  },
  {
   "cell_type": "code",
   "execution_count": null,
   "metadata": {},
   "outputs": [],
   "source": [
    "len(wordsAtLeast3Subreddits)"
   ]
  },
  {
   "cell_type": "code",
   "execution_count": null,
   "metadata": {
    "collapsed": true
   },
   "outputs": [],
   "source": [
    "wordsNotAtLeast3Subreddits = unionWords - wordsAtLeast3Subreddits"
   ]
  },
  {
   "cell_type": "code",
   "execution_count": null,
   "metadata": {},
   "outputs": [],
   "source": [
    "len(wordsNotAtLeast3Subreddits)"
   ]
  },
  {
   "cell_type": "code",
   "execution_count": null,
   "metadata": {
    "collapsed": true
   },
   "outputs": [],
   "source": [
    "#remove words\n",
    "dataAll['spans'] = dataAll['spans'].apply(lambda x: ' '.join([word for word in x.split() if word.lower() not in (wordsNotAtLeast3Subreddits)]))"
   ]
  },
  {
   "cell_type": "code",
   "execution_count": null,
   "metadata": {
    "collapsed": true
   },
   "outputs": [],
   "source": [
    "wordsDepois = dict(Counter(\" \".join(dataAll['spans'].values.tolist()).split(\" \")).items())"
   ]
  },
  {
   "cell_type": "code",
   "execution_count": null,
   "metadata": {},
   "outputs": [],
   "source": [
    "len(wordsDepois)"
   ]
  },
  {
   "cell_type": "code",
   "execution_count": null,
   "metadata": {},
   "outputs": [],
   "source": [
    "len(dataAll)"
   ]
  },
  {
   "cell_type": "code",
   "execution_count": null,
   "metadata": {
    "collapsed": true
   },
   "outputs": [],
   "source": [
    "# B) remover 20% DAS palavras as palavras que não aparecem em 3 subreddits"
   ]
  },
  {
   "cell_type": "code",
   "execution_count": null,
   "metadata": {
    "collapsed": true
   },
   "outputs": [],
   "source": [
    "# C) remover as palavras com frequência menor que 5% \n",
    "# values = list(words.values())\n",
    "# mediaFrequenciaPalavras = sum(values)/float(len(values))\n",
    "# txRemove = 0.05\n",
    "# freqRemove = mediaFrequenciaPalavras*txRemove\n",
    "# d = dict((k, v) for k, v in words.items() if v < freqRemove)\n",
    "# len(d)\n"
   ]
  },
  {
   "cell_type": "markdown",
   "metadata": {},
   "source": [
    "### C) Remover as palavras cuja frequência é menor que 4"
   ]
  },
  {
   "cell_type": "code",
   "execution_count": null,
   "metadata": {
    "collapsed": true
   },
   "outputs": [],
   "source": [
    "# D) remover as palavras com frequeência menor que 3\n",
    "d = dict((k, v) for k, v in words.items() if v < 4)"
   ]
  },
  {
   "cell_type": "code",
   "execution_count": null,
   "metadata": {
    "collapsed": true
   },
   "outputs": [],
   "source": [
    "wordsFreqMenor4 = set(d.keys())"
   ]
  },
  {
   "cell_type": "code",
   "execution_count": null,
   "metadata": {
    "collapsed": true
   },
   "outputs": [],
   "source": [
    "#remove words que tem frequencia < 3\n",
    "dataAll['spans'] = dataAll['spans'].apply(lambda x: ' '.join([word for word in x.split() if word.lower() not in (wordsFreqMenor4)]))"
   ]
  },
  {
   "cell_type": "code",
   "execution_count": null,
   "metadata": {
    "collapsed": true
   },
   "outputs": [],
   "source": [
    "wordsDepois = dict(Counter(\" \".join(dataAll['spans'].values.tolist()).split(\" \")).items())"
   ]
  },
  {
   "cell_type": "code",
   "execution_count": null,
   "metadata": {},
   "outputs": [],
   "source": [
    "len(wordsDepois)"
   ]
  },
  {
   "cell_type": "code",
   "execution_count": null,
   "metadata": {},
   "outputs": [],
   "source": [
    "len(dataAll)"
   ]
  },
  {
   "cell_type": "markdown",
   "metadata": {},
   "source": [
    "### D) \n",
    "### 1.1. remove palavras cuja frequencia é <= X. (tentei x = 3, x=1)  \n",
    "### 1.2. depois pego a interecessao"
   ]
  },
  {
   "cell_type": "code",
   "execution_count": 61,
   "metadata": {
    "collapsed": true
   },
   "outputs": [],
   "source": [
    "freqLimite = 2\n",
    "# D) remover as palavras com frequeência menor que 3\n",
    "wordsAnxieyFreMaior = dict((k, v) for k, v in wordsAnxiety.items() if v >= freqLimite)\n",
    "wordsBipolarFreMaior = dict((k, v) for k, v in wordsBipolar.items() if v >= freqLimite)\n",
    "wordsDepressionFreMaior = dict((k, v) for k, v in wordsDepression.items() if v >= freqLimite)\n",
    "wordsSuicideFreMaior = dict((k, v) for k, v in wordsSuicide.items() if v >= freqLimite)"
   ]
  },
  {
   "cell_type": "code",
   "execution_count": 62,
   "metadata": {
    "collapsed": true
   },
   "outputs": [],
   "source": [
    "# pegar palavras\n",
    "keys_anxiety = set(wordsAnxieyFreMaior.keys())\n",
    "keys_bipolar = set(wordsBipolarFreMaior.keys())\n",
    "keys_depression = set(wordsDepressionFreMaior.keys())\n",
    "keys_suicide = set(wordsSuicideFreMaior.keys())"
   ]
  },
  {
   "cell_type": "code",
   "execution_count": 63,
   "metadata": {
    "collapsed": true
   },
   "outputs": [],
   "source": [
    "intersectionWords4Subreddits = keys_anxiety & keys_bipolar & keys_depression & keys_suicide"
   ]
  },
  {
   "cell_type": "code",
   "execution_count": 64,
   "metadata": {},
   "outputs": [
    {
     "data": {
      "text/plain": [
       "13272"
      ]
     },
     "execution_count": 64,
     "metadata": {},
     "output_type": "execute_result"
    }
   ],
   "source": [
    "len(intersectionWords4Subreddits)"
   ]
  },
  {
   "cell_type": "code",
   "execution_count": 65,
   "metadata": {
    "collapsed": true
   },
   "outputs": [],
   "source": [
    "#remove words\n",
    "dataAll['spans'] = dataAll['spans'].apply(lambda x: ' '.join([word for word in x.split() if word.lower()  in (intersectionWords4Subreddits)]))"
   ]
  },
  {
   "cell_type": "code",
   "execution_count": 66,
   "metadata": {
    "collapsed": true
   },
   "outputs": [],
   "source": [
    "w = dict(Counter(\" \".join(dataAll['spans'].values.tolist()).split(\" \")).items())"
   ]
  },
  {
   "cell_type": "code",
   "execution_count": 67,
   "metadata": {},
   "outputs": [
    {
     "data": {
      "text/plain": [
       "13272"
      ]
     },
     "execution_count": 67,
     "metadata": {},
     "output_type": "execute_result"
    }
   ],
   "source": [
    "len(w)"
   ]
  },
  {
   "cell_type": "markdown",
   "metadata": {},
   "source": [
    "#### Gerar arquivo"
   ]
  },
  {
   "cell_type": "code",
   "execution_count": 68,
   "metadata": {},
   "outputs": [
    {
     "data": {
      "text/plain": [
       "False"
      ]
     },
     "execution_count": 68,
     "metadata": {},
     "output_type": "execute_result"
    }
   ],
   "source": [
    "len(dataAll[dataAll[\"spans\"] == \"\"])\n",
    "dataAll.isnull().values.any()"
   ]
  },
  {
   "cell_type": "code",
   "execution_count": 69,
   "metadata": {},
   "outputs": [
    {
     "data": {
      "text/plain": [
       "426529"
      ]
     },
     "execution_count": 69,
     "metadata": {},
     "output_type": "execute_result"
    }
   ],
   "source": [
    "len(dataAll)"
   ]
  },
  {
   "cell_type": "code",
   "execution_count": 70,
   "metadata": {
    "collapsed": true
   },
   "outputs": [],
   "source": [
    "# limpar arquivos com spans vazios\n",
    "dataAll = dataAll.drop(dataAll[(dataAll.spans.str.strip() == '')].index)"
   ]
  },
  {
   "cell_type": "code",
   "execution_count": 71,
   "metadata": {},
   "outputs": [
    {
     "data": {
      "text/plain": [
       "0"
      ]
     },
     "execution_count": 71,
     "metadata": {},
     "output_type": "execute_result"
    }
   ],
   "source": [
    "len(dataAll[dataAll[\"spans\"] == \"\"])"
   ]
  },
  {
   "cell_type": "code",
   "execution_count": 72,
   "metadata": {
    "scrolled": true
   },
   "outputs": [
    {
     "data": {
      "text/plain": [
       "424827"
      ]
     },
     "execution_count": 72,
     "metadata": {},
     "output_type": "execute_result"
    }
   ],
   "source": [
    "len(dataAll)"
   ]
  },
  {
   "cell_type": "code",
   "execution_count": 73,
   "metadata": {
    "collapsed": true
   },
   "outputs": [],
   "source": [
    "dataAll.to_csv(\"reddit_2017.txt\", index=False)"
   ]
  },
  {
   "cell_type": "markdown",
   "metadata": {
    "collapsed": true
   },
   "source": [
    "### arquivos spans"
   ]
  },
  {
   "cell_type": "code",
   "execution_count": 74,
   "metadata": {
    "collapsed": true
   },
   "outputs": [],
   "source": [
    "fileSpans = \"spans_2017\"\n",
    "file = open(fileSpans,\"w\") \n",
    "dataAll.to_csv(fileSpans, \"\\n\", columns=[\"spans\"], mode='a', header=False, index=False)\n",
    "file.close()"
   ]
  },
  {
   "cell_type": "code",
   "execution_count": 75,
   "metadata": {},
   "outputs": [
    {
     "data": {
      "text/plain": [
       "424827"
      ]
     },
     "execution_count": 75,
     "metadata": {},
     "output_type": "execute_result"
    }
   ],
   "source": [
    "len(dataAll)"
   ]
  },
  {
   "cell_type": "code",
   "execution_count": null,
   "metadata": {
    "collapsed": true
   },
   "outputs": [],
   "source": []
  }
 ],
 "metadata": {
  "kernelspec": {
   "display_name": "Python 3",
   "language": "python",
   "name": "python3"
  },
  "language_info": {
   "codemirror_mode": {
    "name": "ipython",
    "version": 3
   },
   "file_extension": ".py",
   "mimetype": "text/x-python",
   "name": "python",
   "nbconvert_exporter": "python",
   "pygments_lexer": "ipython3",
   "version": "3.6.3"
  }
 },
 "nbformat": 4,
 "nbformat_minor": 2
}
